{
 "cells": [
  {
   "cell_type": "markdown",
   "id": "47b2d996",
   "metadata": {},
   "source": [
    "# TOMOGRAF ROBI BRRR\n"
   ]
  },
  {
   "cell_type": "code",
   "execution_count": null,
   "id": "788788f1",
   "metadata": {},
   "outputs": [],
   "source": [
    "import scipy\n",
    "import numpy as np"
   ]
  },
  {
   "cell_type": "markdown",
   "id": "a660c824",
   "metadata": {},
   "source": [
    "## Bresenham"
   ]
  },
  {
   "cell_type": "code",
   "execution_count": null,
   "id": "8b191b5b",
   "metadata": {},
   "outputs": [],
   "source": [
    "def Bresenham(x1, y1, x2, y2):\n",
    "    return 0"
   ]
  }
 ],
 "metadata": {
  "kernelspec": {
   "display_name": "Python 3 (ipykernel)",
   "language": "python",
   "name": "python3"
  },
  "language_info": {
   "codemirror_mode": {
    "name": "ipython",
    "version": 3
   },
   "file_extension": ".py",
   "mimetype": "text/x-python",
   "name": "python",
   "nbconvert_exporter": "python",
   "pygments_lexer": "ipython3",
   "version": "3.10.4"
  }
 },
 "nbformat": 4,
 "nbformat_minor": 5
}
