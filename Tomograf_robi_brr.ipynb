{
 "cells": [
  {
   "cell_type": "markdown",
   "id": "47b2d996",
   "metadata": {},
   "source": [
    "# TOMOGRAF ROBI BRRR\n"
   ]
  },
  {
   "cell_type": "code",
   "execution_count": 92,
   "id": "788788f1",
   "metadata": {},
   "outputs": [],
   "source": [
    "import scipy\n",
    "from scipy.ndimage import rotate as sp_rotate\n",
    "import numpy as np\n",
    "\n",
    "from PIL import Image\n"
   ]
  },
  {
   "cell_type": "markdown",
   "id": "a7e25015",
   "metadata": {},
   "source": [
    "## Bresenham"
   ]
  },
  {
   "cell_type": "code",
   "execution_count": 9,
   "id": "afb18170",
   "metadata": {},
   "outputs": [
    {
     "name": "stdout",
     "output_type": "stream",
     "text": [
      "[(1, 1), (2, 2), (3, 2), (4, 3), (5, 3), (6, 4), (7, 4), (8, 5), (9, 5), (10, 6)]\n"
     ]
    }
   ],
   "source": [
    "\"\"\"bychnięte z wikipedi tylko że C\"\"\"\n",
    "def bresenham(x1, y1, x2, y2):\n",
    "    output_points = []\n",
    "    # kierunki rysowaniaw\n",
    "    xi = 1 if x1<x2 else -1\n",
    "    dx = abs(x1-x2)\n",
    "\n",
    "    yi = 1 if y1<y2 else -1\n",
    "    dy = abs(y1-y2)\n",
    "\n",
    "    x, y = x1, y1\n",
    "\n",
    "    output_points.append((x,y))\n",
    "\n",
    "    # oś wiodąca OX\n",
    "    if dx > dy:\n",
    "        ai = (dy - dx) * 2\n",
    "        bi = dy * 2\n",
    "        d = bi - dx\n",
    "        # pętla po x-ach\n",
    "        while x != x2:\n",
    "            if d >= 0:\n",
    "                x += xi\n",
    "                y += yi\n",
    "                d += ai\n",
    "            else:\n",
    "                d += bi\n",
    "                x += xi\n",
    "            output_points.append((x,y))\n",
    "    # oś wiodąca OY\n",
    "    else:\n",
    "        ai = ( dx - dy ) * 2\n",
    "        bi = dx * 2\n",
    "        d = bi - dy\n",
    "        # pętla po y\n",
    "        while y != y2:\n",
    "            if d >= 0:\n",
    "                x += xi\n",
    "                y += yi\n",
    "                d += ai\n",
    "            else:\n",
    "                d += bi\n",
    "                y += yi\n",
    "            output_points.append((x,y))\n",
    "    return output_points\n",
    "\n",
    "\n",
    "print(bresenham(1,1,10,6))\n"
   ]
  },
  {
   "cell_type": "markdown",
   "id": "b5395dae",
   "metadata": {},
   "source": [
    "Parametry wejściowe"
   ]
  },
  {
   "cell_type": "code",
   "execution_count": 10,
   "id": "b777ec86",
   "metadata": {},
   "outputs": [],
   "source": [
    "# parametry symulacji skanera \n",
    "# skok głowicy - 1st w rad\n",
    "delta_a = 1\n",
    "# liczba detektorów\n",
    "n = 90\n",
    "# rozpiętość skanera\n",
    "l = 90\n",
    "\n",
    "PI = np.pi"
   ]
  },
  {
   "cell_type": "code",
   "execution_count": 11,
   "id": "b20b2739",
   "metadata": {},
   "outputs": [
    {
     "name": "stdout",
     "output_type": "stream",
     "text": [
      "[[255 255 255 ... 255 255 255]\n",
      " [255 255 255 ... 255 255 255]\n",
      " [255 255 255 ... 255 255 255]\n",
      " ...\n",
      " [255 255 255 ... 255 255 255]\n",
      " [255 255 255 ... 255 255 255]\n",
      " [255 255 255 ... 255 255 255]]\n"
     ]
    }
   ],
   "source": [
    "\n",
    "def read_image(path):\n",
    "    img = Image.open(path).convert('L')\n",
    "    # arr = np.array(img.getdata())\n",
    "    arr = np.array(img.getdata(), dtype=np.uint8) # Note the dtype input\n",
    "    field = np.resize(arr, (img.size[1], img.size[0]))\n",
    "    img = Image.fromarray(field, mode='L')\n",
    "    # img.show()\n",
    "    return field\n",
    "\n",
    "test = read_image(\"tomograf-obrazy\\kolorki-kredki-swiecowe-wykrecane-024107.jpg\")\n",
    "print(test)\n"
   ]
  },
  {
   "cell_type": "code",
   "execution_count": 12,
   "id": "e14dae99",
   "metadata": {},
   "outputs": [
    {
     "name": "stdout",
     "output_type": "stream",
     "text": [
      "[(7, -7), (7, 7)]\n"
     ]
    }
   ],
   "source": [
    "def generate_points(r, a, n=1, fi=0):   \n",
    "    points = []\n",
    "    if n>1:\n",
    "        for i in range(n):\n",
    "            xD = r*np.cos(a - fi/2 + i*(fi/(n-1)))\n",
    "            yD = r*np.sin(a - fi/2 + i*(fi/(n-1)))\n",
    "            points.append((round(xD), round(yD)))\n",
    "    else: \n",
    "        xD = r*np.cos(a)\n",
    "        yD = r*np.sin(a)\n",
    "        points.append((round(xD), round(yD)))\n",
    "    return points\n",
    "\n",
    "\n",
    "def generate_emiter_s(r, a, n=1, l=0):  \n",
    "    emiters = generate_points(r , a, n, l)\n",
    "    return emiters\n",
    "\n",
    "def generate_detectors(r, a, n=3, l=PI/2):  \n",
    "    emiters = generate_points(r , a+PI, n, l)\n",
    "    return emiters\n",
    "\n",
    "\n",
    "\n",
    "print(generate_points(10, 0, 2, PI/2))"
   ]
  },
  {
   "cell_type": "code",
   "execution_count": 148,
   "id": "d8afca77",
   "metadata": {},
   "outputs": [],
   "source": [
    "def radon_transform(photo_file, delta_a, n, l):  # zdjęcie / skok alfa / n detektorów / rozpiętość detektorów\n",
    "    photo_array = read_image(photo_file)\n",
    "    # print(photo_array)\n",
    "    size = len(photo_array), len(photo_array[0])  # h , w\n",
    "    radius = round((((size[0] ** 2) + (size[1] ** 2)) ** 0.5)/2)\n",
    "    \n",
    "    empty = np.array([[0 for i in range(radius*2)] for j in range(radius*2)])\n",
    "    w,s = photo_array.shape\n",
    "    y_off, x_off = round((radius*2-w)/2), round((radius*2-s)/2)\n",
    "    # empty = np.array(empty.copy())\n",
    "    empty[y_off:y_off+w, x_off:x_off+s] = photo_array\n",
    "\n",
    "    # Image.fromarray(empty).show()\n",
    "\n",
    "    sinogram = []\n",
    "    # pętla po kolejnych skanach\n",
    "    for angle in range(0, 180, delta_a):\n",
    "        emiters = generate_emiter_s(radius, np.deg2rad(angle), n, np.deg2rad(l))\n",
    "        detectors = generate_detectors(radius, np.deg2rad(angle), n, np.deg2rad(l))\n",
    "        sinogram_row = [0 for i in range(len(detectors))]\n",
    "\n",
    "        # pętla po kolejnych detektorach w pojedynczym skanie\n",
    "        for ray_nr in range(len(detectors)):\n",
    "            ray_points = bresenham(emiters[ray_nr][0], emiters[ray_nr][1], detectors[-1-ray_nr][0], detectors[-1-ray_nr][1])\n",
    "            # print(ray_points[:20])\n",
    "            points_counted = 0 \n",
    "\n",
    "            # próbkowanie punktów pojedyńczego promienia \n",
    "            for xp, yp in ray_points:\n",
    "                if (x_off < xp + radius < x_off + s) and (y_off < yp + radius < y_off + w):\n",
    "                    points_counted += 1\n",
    "                    sinogram_row[ray_nr] += empty[xp+radius-1][yp+radius-1]\n",
    "            \n",
    "            if points_counted > 0:\n",
    "                sinogram_row[ray_nr] /= points_counted\n",
    "        \n",
    "        sinogram.append(sinogram_row)\n",
    "\n",
    "    return np.array(sinogram).T\n",
    "    return size, radius\n",
    "\n",
    "\n",
    "def radon_inversed(sinogram):\n",
    "    vert_sino = sinogram.T\n",
    "    Image.fromarray(vert_sino).show()\n",
    "    sino_h, sino_w = vert_sino.shape  # h , w\n",
    "\n",
    "    # stworzenie palety do rzutowania projekcji\n",
    "    radius = round((((sino_h ** 2) + (sino_w ** 2)) ** 0.5)/2)\n",
    "    reconstruction = np.array([[0.0 for i in range(radius*2)] for j in range(radius*2)])\n",
    "\n",
    "    delta_a = round(180/sino_h)\n",
    "    slice_offset = (reconstruction.shape[0] - sino_w)//2\n",
    "    for step in range(0, 180, delta_a):\n",
    "    # for step in [0, 10, 20]:\n",
    "        angle = delta_a*step\n",
    "\n",
    "        slice = np.array([0 for i in range(reconstruction.shape[0])])\n",
    "        slice[slice_offset : slice_offset+sino_w] = vert_sino[step]\n",
    "\n",
    "        projection = np.array([slice for j in range(radius*2)])\n",
    "        projection = sp_rotate(projection, angle, reshape=False)\n",
    "        # img = Image.fromarray(projection)\n",
    "        # img.show()\n",
    "\n",
    "        reconstruction += projection#.astype('int32')  # reco... = float64\n",
    "\n",
    "    print(projection.shape)\n",
    "    print(reconstruction[100, 100])\n",
    "    Image.fromarray(reconstruction/sino_h*2).show()\n",
    "\n",
    "    return sino_h, sino_w\n",
    "\n",
    "\n"
   ]
  },
  {
   "cell_type": "code",
   "execution_count": 99,
   "id": "cd4f62ec",
   "metadata": {},
   "outputs": [
    {
     "name": "stdout",
     "output_type": "stream",
     "text": [
      "[[0. 0. 0. ... 0. 0. 0.]\n",
      " [0. 0. 0. ... 0. 0. 0.]\n",
      " [0. 0. 0. ... 0. 0. 0.]\n",
      " ...\n",
      " [0. 0. 0. ... 0. 0. 0.]\n",
      " [0. 0. 0. ... 0. 0. 0.]\n",
      " [0. 0. 0. ... 0. 0. 0.]]\n"
     ]
    }
   ],
   "source": [
    "# sino = radon_transform('tomograf-obrazy\\Paski2.jpg', delta_a, n, l)\n",
    "sino = radon_transform('tomograf-obrazy\\Shepp_logan.jpg', 1, 90, 90)\n",
    "print(sino)\n"
   ]
  },
  {
   "cell_type": "code",
   "execution_count": 149,
   "id": "18054542",
   "metadata": {},
   "outputs": [
    {
     "name": "stdout",
     "output_type": "stream",
     "text": [
      "(202, 202)\n",
      "6463.0\n",
      "(180, 90)\n"
     ]
    }
   ],
   "source": [
    "print(radon_inversed(sino))"
   ]
  },
  {
   "cell_type": "code",
   "execution_count": 79,
   "id": "1d47c280",
   "metadata": {},
   "outputs": [],
   "source": [
    "\n",
    "igm = Image.fromarray(np.array(sino))\n",
    "igm.show()\n",
    "img = igm.rotate(30)\n",
    "img.show()"
   ]
  }
 ],
 "metadata": {
  "kernelspec": {
   "display_name": "Python 3 (ipykernel)",
   "language": "python",
   "name": "python3"
  },
  "language_info": {
   "codemirror_mode": {
    "name": "ipython",
    "version": 3
   },
   "file_extension": ".py",
   "mimetype": "text/x-python",
   "name": "python",
   "nbconvert_exporter": "python",
   "pygments_lexer": "ipython3",
   "version": "3.10.4"
  }
 },
 "nbformat": 4,
 "nbformat_minor": 5
}
