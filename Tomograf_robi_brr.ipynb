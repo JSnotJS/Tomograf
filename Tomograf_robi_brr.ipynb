{
 "cells": [
  {
   "cell_type": "markdown",
   "id": "47b2d996",
   "metadata": {},
   "source": [
    "# TOMOGRAF ROBI BRRR\n"
   ]
  },
  {
   "cell_type": "code",
   "execution_count": 1,
   "id": "788788f1",
   "metadata": {},
   "outputs": [],
   "source": [
    "import scipy\n",
    "import numpy as np\n",
    "\n",
    "from PIL import Image\n"
   ]
  },
  {
   "cell_type": "markdown",
   "id": "a7e25015",
   "metadata": {},
   "source": [
    "## Bresenham"
   ]
  },
  {
   "cell_type": "code",
   "execution_count": 2,
   "id": "afb18170",
   "metadata": {},
   "outputs": [],
   "source": [
    "\"\"\"bychnięte z wikipedi tylko że C\"\"\"\n",
    "def Bresenham(x1, y1, x2, y2):\n",
    "    output_points = []\n",
    "    # kierunki rysowaniaw\n",
    "    xi = 1 if x1<x2 else -1\n",
    "    dx = abs(x1-x2)\n",
    "\n",
    "    yi = 1 if y1<y2 else -1\n",
    "    dy = abs(y1-y2)\n",
    "\n",
    "    x, y = x1, y1\n",
    "\n",
    "    output_points.append((x,y))\n",
    "\n",
    "    # oś wiodąca OX\n",
    "    if dx > dy:\n",
    "        ai = (dy - dx) * 2\n",
    "        bi = dy * 2\n",
    "        d = bi - dx\n",
    "        # pętla po x-ach\n",
    "        while x != x2:\n",
    "            if d >= 0:\n",
    "                x += xi\n",
    "                y += yi\n",
    "                d += ai\n",
    "            else:\n",
    "                d += bi\n",
    "                x += xi\n",
    "            output_points.append((x,y))\n",
    "    # oś wiodąca OY\n",
    "    else:\n",
    "        ai = ( dx - dy ) * 2\n",
    "        bi = dx * 2\n",
    "        d = bi - dy\n",
    "        # pętla po y\n",
    "        while y != y2:\n",
    "            if d >= 0:\n",
    "                x += xi\n",
    "                y += yi\n",
    "                d += ai\n",
    "            else:\n",
    "                d += bi\n",
    "                y += yi\n",
    "            output_points.append((x,y))\n",
    "    return output_points\n",
    "\n",
    "\n",
    "print(Bresenham(1,1,10,6))\n"
   ]
  },
  {
   "cell_type": "markdown",
   "id": "b5395dae",
   "metadata": {},
   "source": [
    "Parametry wejściowe"
   ]
  },
  {
   "cell_type": "code",
   "execution_count": 4,
   "id": "b777ec86",
   "metadata": {},
   "outputs": [],
   "source": [
    "# parametry symulacji skanera \n",
    "# skok głowicy\n",
    "delta_a = 1\n",
    "# liczba detektorów\n",
    "n = 90\n",
    "# rozpiętość skanera\n",
    "l = np.deg2rad(90)\n",
    "\n",
    "PI = np.pi"
   ]
  },
  {
   "cell_type": "code",
   "execution_count": 23,
   "id": "b20b2739",
   "metadata": {},
   "outputs": [
    {
     "name": "stdout",
     "output_type": "stream",
     "text": [
      "[[255 255 255 ... 255 255 255]\n",
      " [255 255 255 ... 255 255 255]\n",
      " [255 255 255 ... 255 255 255]\n",
      " ...\n",
      " [255 255 255 ... 255 255 255]\n",
      " [255 255 255 ... 255 255 255]\n",
      " [255 255 255 ... 255 255 255]]\n"
     ]
    }
   ],
   "source": [
    "\n",
    "def read_image(path):\n",
    "    img = Image.open(path).convert('L')\n",
    "    # arr = np.array(img.getdata())\n",
    "    arr = np.array(img.getdata(), dtype=np.uint8) # Note the dtype input\n",
    "    field = np.resize(arr, (img.size[1], img.size[0]))\n",
    "    img = Image.fromarray(field, mode='L')\n",
    "    # img.show()\n",
    "    return field\n",
    "\n",
    "test = read_image(\"tomograf-obrazy\\kolorki-kredki-swiecowe-wykrecane-024107.jpg\")\n",
    "print(test)\n"
   ]
  },
  {
   "cell_type": "code",
   "execution_count": null,
   "id": "e14dae99",
   "metadata": {},
   "outputs": [
    {
     "name": "stdout",
     "output_type": "stream",
     "text": [
      "[(-9, 5), (-9, -5)]\n"
     ]
    }
   ],
   "source": [
    "def generate_points(r, a, n=1, fi=0):   \n",
    "    points = []\n",
    "    if n>1:\n",
    "        for i in range(n):\n",
    "            xD = r*np.cos(a + PI - fi/2 + i*(fi/(n-1)))\n",
    "            yD = r*np.sin(a + PI - fi/2 + i*(fi/(n-1)))\n",
    "            points.append((round(xD), round(yD)))\n",
    "    else: \n",
    "        xD = r*np.cos(a + PI)\n",
    "        yD = r*np.sin(a + PI)\n",
    "        points.append((round(xD), round(yD)))\n",
    "    return points\n",
    "\n",
    "\n",
    "def generate_emiter_s(r, a, n=1, l=0):  \n",
    "    emiters = generate_points(r , a, n, l)\n",
    "    return emiters\n",
    "\n",
    "def generate_detectors(r, a, n=3, l=1):  \n",
    "    emiters = generate_points(r , a, n, l)\n",
    "    return emiters\n",
    "\n",
    "\n",
    "\n",
    "print(generate_points(10, 0, 2, 1))"
   ]
  },
  {
   "cell_type": "code",
   "execution_count": 22,
   "id": "d8afca77",
   "metadata": {},
   "outputs": [
    {
     "name": "stdout",
     "output_type": "stream",
     "text": [
      "<class 'PIL.Image.Image'>\n",
      "<class 'numpy.ndarray'>\n",
      "((400, 400), 565.685424949238)\n"
     ]
    }
   ],
   "source": [
    "def radon_transform(photo_file, delta_a, n, l):  # zdjęcie / skok alfa / n detektorów / rozpiętość detektorów\n",
    "    photo_array = read_image(photo_file)\n",
    "    size = len(photo_array), len(photo_array[0])  # h , w\n",
    "    radious = round(((size[0] ** 2) + (size[1] ** 2)) ** 0.5)\n",
    "    \n",
    "    empty = [[0 for i in range(radious*2)] for j in range(radious*2)]\n",
    "    w,s = photo_array.shape\n",
    "    y_off, x_off = round((r*2-w)/2), round((r*2-s)/2)\n",
    "    obraz = np.array(obraz.copy())\n",
    "    empty[y_off:y_off+w,x_off:x_off+s] = photo_array\n",
    "\n",
    "    return size, radious\n",
    "\n",
    "\n",
    "def radon_reversed():\n",
    "    pass\n",
    "\n",
    "\n",
    "print(radon_transform('tomograf-obrazy\\Kropka.jpg'))"
   ]
  },
  {
   "cell_type": "code",
   "execution_count": null,
   "id": "cd4f62ec",
   "metadata": {},
   "outputs": [],
   "source": []
  }
 ],
 "metadata": {
  "kernelspec": {
   "display_name": "Python 3 (ipykernel)",
   "language": "python",
   "name": "python3"
  },
  "language_info": {
   "codemirror_mode": {
    "name": "ipython",
    "version": 3
   },
   "file_extension": ".py",
   "mimetype": "text/x-python",
   "name": "python",
   "nbconvert_exporter": "python",
   "pygments_lexer": "ipython3",
   "version": "3.10.4"
  }
 },
 "nbformat": 4,
 "nbformat_minor": 5
}
